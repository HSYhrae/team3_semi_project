{
  "nbformat": 4,
  "nbformat_minor": 0,
  "metadata": {
    "colab": {
      "provenance": []
    },
    "kernelspec": {
      "name": "python3",
      "display_name": "Python 3"
    },
    "language_info": {
      "name": "python"
    }
  },
  "cells": [
    {
      "cell_type": "code",
      "execution_count": 1,
      "metadata": {
        "colab": {
          "base_uri": "https://localhost:8080/"
        },
        "id": "ilfKQxzudPxa",
        "outputId": "b4d504f4-ec1b-4d04-aae4-ab6e3c23476c"
      },
      "outputs": [
        {
          "output_type": "stream",
          "name": "stdout",
          "text": [
            "Reading package lists... Done\n",
            "Building dependency tree... Done\n",
            "Reading state information... Done\n",
            "The following NEW packages will be installed:\n",
            "  fonts-nanum\n",
            "0 upgraded, 1 newly installed, 0 to remove and 16 not upgraded.\n",
            "Need to get 10.3 MB of archives.\n",
            "After this operation, 34.1 MB of additional disk space will be used.\n",
            "Get:1 http://archive.ubuntu.com/ubuntu jammy/universe amd64 fonts-nanum all 20200506-1 [10.3 MB]\n",
            "Fetched 10.3 MB in 1s (9,713 kB/s)\n",
            "debconf: unable to initialize frontend: Dialog\n",
            "debconf: (No usable dialog-like program is installed, so the dialog based frontend cannot be used. at /usr/share/perl5/Debconf/FrontEnd/Dialog.pm line 78, <> line 1.)\n",
            "debconf: falling back to frontend: Readline\n",
            "debconf: unable to initialize frontend: Readline\n",
            "debconf: (This frontend requires a controlling tty.)\n",
            "debconf: falling back to frontend: Teletype\n",
            "dpkg-preconfigure: unable to re-open stdin: \n",
            "Selecting previously unselected package fonts-nanum.\n",
            "(Reading database ... 120901 files and directories currently installed.)\n",
            "Preparing to unpack .../fonts-nanum_20200506-1_all.deb ...\n",
            "Unpacking fonts-nanum (20200506-1) ...\n",
            "Setting up fonts-nanum (20200506-1) ...\n",
            "Processing triggers for fontconfig (2.13.1-4.2ubuntu5) ...\n",
            "/usr/share/fonts: caching, new cache contents: 0 fonts, 1 dirs\n",
            "/usr/share/fonts/truetype: caching, new cache contents: 0 fonts, 3 dirs\n",
            "/usr/share/fonts/truetype/humor-sans: caching, new cache contents: 1 fonts, 0 dirs\n",
            "/usr/share/fonts/truetype/liberation: caching, new cache contents: 16 fonts, 0 dirs\n",
            "/usr/share/fonts/truetype/nanum: caching, new cache contents: 12 fonts, 0 dirs\n",
            "/usr/local/share/fonts: caching, new cache contents: 0 fonts, 0 dirs\n",
            "/root/.local/share/fonts: skipping, no such directory\n",
            "/root/.fonts: skipping, no such directory\n",
            "/usr/share/fonts/truetype: skipping, looped directory detected\n",
            "/usr/share/fonts/truetype/humor-sans: skipping, looped directory detected\n",
            "/usr/share/fonts/truetype/liberation: skipping, looped directory detected\n",
            "/usr/share/fonts/truetype/nanum: skipping, looped directory detected\n",
            "/var/cache/fontconfig: cleaning cache directory\n",
            "/root/.cache/fontconfig: not cleaning non-existent cache directory\n",
            "/root/.fontconfig: not cleaning non-existent cache directory\n",
            "fc-cache: succeeded\n"
          ]
        }
      ],
      "source": [
        "!sudo apt-get install -y fonts-nanum\n",
        "!sudo fc-cache -fv\n",
        "!rm ~/.cache/matplotlib -rf\n"
      ]
    },
    {
      "cell_type": "code",
      "source": [
        "import pandas as pd\n",
        "import numpy as np\n",
        "import matplotlib.pyplot as plt\n",
        "import seaborn as sns\n"
      ],
      "metadata": {
        "id": "9lwfH_5UdlJQ"
      },
      "execution_count": 2,
      "outputs": []
    },
    {
      "cell_type": "code",
      "source": [
        "import pandas as pd\n",
        "import statsmodels.api as sm\n",
        "from scipy.stats import pearsonr\n",
        "\n",
        "# Load the crime data\n",
        "crime_data = pd.read_csv('/content/서울시5대범죄전처리완료.csv', encoding='euc-kr')\n",
        "\n",
        "# Load the real estate data\n",
        "real_estate_data = pd.read_csv('/content/df_lease_deposit_3000.csv', encoding='euc-kr')\n",
        "\n",
        "# Merge the two datasets based on \"접수년도\" and \"자치구명\"\n",
        "merged_data = pd.merge(crime_data, real_estate_data, on=['접수년도', '자치구명'], how='inner')\n",
        "\n",
        "# Calculate Pearson correlation coefficient\n",
        "correlation, _ = pearsonr(merged_data['범죄율'], merged_data['평당전세가'])\n",
        "\n",
        "# Perform linear regression (OLS)\n",
        "X = merged_data['평당전세가']\n",
        "X = sm.add_constant(X)\n",
        "y = merged_data['범죄율']\n",
        "\n",
        "model = sm.OLS(y, X).fit()\n",
        "\n",
        "# Print results\n",
        "print(\"Pearson Correlation Coefficient:\", correlation)\n",
        "print(model.summary())\n"
      ],
      "metadata": {
        "colab": {
          "base_uri": "https://localhost:8080/"
        },
        "id": "Oqg5XuEldzHX",
        "outputId": "4797b371-08f2-4ac2-ea6f-4c02e7c6896a"
      },
      "execution_count": 15,
      "outputs": [
        {
          "output_type": "stream",
          "name": "stdout",
          "text": [
            "Pearson Correlation Coefficient: -0.03206845941710442\n",
            "                            OLS Regression Results                            \n",
            "==============================================================================\n",
            "Dep. Variable:                    범죄율   R-squared:                       0.001\n",
            "Model:                            OLS   Adj. R-squared:                  0.000\n",
            "Method:                 Least Squares   F-statistic:                     1.400\n",
            "Date:                Mon, 11 Sep 2023   Prob (F-statistic):              0.237\n",
            "Time:                        00:50:43   Log-Likelihood:                -9987.6\n",
            "No. Observations:                1362   AIC:                         1.998e+04\n",
            "Df Residuals:                    1360   BIC:                         1.999e+04\n",
            "Df Model:                           1                                         \n",
            "Covariance Type:            nonrobust                                         \n",
            "==============================================================================\n",
            "                 coef    std err          t      P>|t|      [0.025      0.975]\n",
            "------------------------------------------------------------------------------\n",
            "const       1057.2943     22.924     46.121      0.000    1012.324    1102.265\n",
            "평당전세가         -0.1484      0.125     -1.183      0.237      -0.394       0.098\n",
            "==============================================================================\n",
            "Omnibus:                      878.505   Durbin-Watson:                   0.311\n",
            "Prob(Omnibus):                  0.000   Jarque-Bera (JB):            12761.648\n",
            "Skew:                           2.790   Prob(JB):                         0.00\n",
            "Kurtosis:                      16.919   Cond. No.                         418.\n",
            "==============================================================================\n",
            "\n",
            "Notes:\n",
            "[1] Standard Errors assume that the covariance matrix of the errors is correctly specified.\n"
          ]
        }
      ]
    },
    {
      "cell_type": "code",
      "source": [
        "import pandas as pd\n",
        "import statsmodels.api as sm\n",
        "from scipy.stats import pearsonr\n",
        "\n",
        "# Load the redevelopment data\n",
        "redevelopment_data = pd.read_csv('/content/재개발_전처리.csv', encoding='euc-kr')\n",
        "\n",
        "# Load the real estate data\n",
        "real_estate_data = pd.read_csv('/content/df_lease_deposit_3000.csv', encoding='euc-kr')\n",
        "\n",
        "# Merge the two datasets based on \"접수년도\" and \"자치구명\"\n",
        "merged_data = pd.merge(redevelopment_data, real_estate_data, on=['접수년도', '자치구명'], how='inner')\n",
        "\n",
        "# Calculate Pearson correlation coefficient\n",
        "correlation, _ = pearsonr(merged_data['재개발_가중치'], merged_data['평당전세가'])\n",
        "\n",
        "# Perform linear regression (OLS)\n",
        "X = merged_data[['평당전세가']]\n",
        "X = sm.add_constant(X)  # Add a constant term for the intercept\n",
        "y = merged_data['재개발_가중치']\n",
        "\n",
        "model = sm.OLS(y, X).fit()\n",
        "\n",
        "# Print results\n",
        "print(\"Pearson Correlation Coefficient:\", correlation)\n",
        "print(model.summary())\n"
      ],
      "metadata": {
        "colab": {
          "base_uri": "https://localhost:8080/"
        },
        "id": "9H78WcnRg--K",
        "outputId": "f7e139bc-c762-4297-a2fc-fee4c85c9237"
      },
      "execution_count": 17,
      "outputs": [
        {
          "output_type": "stream",
          "name": "stdout",
          "text": [
            "Pearson Correlation Coefficient: -0.043924641313799466\n",
            "                            OLS Regression Results                            \n",
            "==============================================================================\n",
            "Dep. Variable:                재개발_가중치   R-squared:                       0.002\n",
            "Model:                            OLS   Adj. R-squared:                  0.001\n",
            "Method:                 Least Squares   F-statistic:                     3.431\n",
            "Date:                Mon, 11 Sep 2023   Prob (F-statistic):             0.0641\n",
            "Time:                        00:54:42   Log-Likelihood:                -2008.1\n",
            "No. Observations:                1777   AIC:                             4020.\n",
            "Df Residuals:                    1775   BIC:                             4031.\n",
            "Df Model:                           1                                         \n",
            "Covariance Type:            nonrobust                                         \n",
            "==============================================================================\n",
            "                 coef    std err          t      P>|t|      [0.025      0.975]\n",
            "------------------------------------------------------------------------------\n",
            "const          1.3113      0.038     34.859      0.000       1.237       1.385\n",
            "평당전세가         -0.0004      0.000     -1.852      0.064      -0.001    2.46e-05\n",
            "==============================================================================\n",
            "Omnibus:                     1055.459   Durbin-Watson:                   0.296\n",
            "Prob(Omnibus):                  0.000   Jarque-Bera (JB):             6364.946\n",
            "Skew:                           2.929   Prob(JB):                         0.00\n",
            "Kurtosis:                      10.187   Cond. No.                         352.\n",
            "==============================================================================\n",
            "\n",
            "Notes:\n",
            "[1] Standard Errors assume that the covariance matrix of the errors is correctly specified.\n"
          ]
        }
      ]
    },
    {
      "cell_type": "code",
      "source": [
        "import pandas as pd\n",
        "import statsmodels.api as sm\n",
        "from scipy.stats import pearsonr\n",
        "\n",
        "# Load the redevelopment data\n",
        "redevelopment_data = pd.read_csv('/content/재개발_전처리.csv', encoding='euc-kr')\n",
        "\n",
        "# Load the real estate data\n",
        "real_estate_data = pd.read_csv('/content/df_lease_deposit_3000.csv', encoding='euc-kr')\n",
        "\n",
        "# Merge the two datasets based on \"접수년도\" and \"자치구명\"\n",
        "merged_data = pd.merge(redevelopment_data, real_estate_data, on=['접수년도', '자치구명'], how='inner')\n",
        "\n",
        "# Calculate Pearson correlation coefficient\n",
        "correlation, _ = pearsonr(merged_data['건립가구 (가구)_완료'], merged_data['평당전세가'])\n",
        "\n",
        "# Perform linear regression (OLS)\n",
        "X = merged_data[['평당전세가']]\n",
        "X = sm.add_constant(X)  # Add a constant term for the intercept\n",
        "y = merged_data['건립가구 (가구)_완료']\n",
        "\n",
        "model = sm.OLS(y, X).fit()\n",
        "\n",
        "# Print results\n",
        "print(\"Pearson Correlation Coefficient:\", correlation)\n",
        "print(model.summary())\n"
      ],
      "metadata": {
        "colab": {
          "base_uri": "https://localhost:8080/"
        },
        "id": "Ahs9SbDgi0nC",
        "outputId": "1b11ce27-d63b-4710-dbbb-f4a4a7973a93"
      },
      "execution_count": 18,
      "outputs": [
        {
          "output_type": "stream",
          "name": "stdout",
          "text": [
            "Pearson Correlation Coefficient: -0.05685126622202367\n",
            "                            OLS Regression Results                            \n",
            "==============================================================================\n",
            "Dep. Variable:           건립가구 (가구)_완료   R-squared:                       0.003\n",
            "Model:                            OLS   Adj. R-squared:                  0.003\n",
            "Method:                 Least Squares   F-statistic:                     5.756\n",
            "Date:                Mon, 11 Sep 2023   Prob (F-statistic):             0.0165\n",
            "Time:                        00:55:29   Log-Likelihood:                -14007.\n",
            "No. Observations:                1777   AIC:                         2.802e+04\n",
            "Df Residuals:                    1775   BIC:                         2.803e+04\n",
            "Df Model:                           1                                         \n",
            "Covariance Type:            nonrobust                                         \n",
            "==============================================================================\n",
            "                 coef    std err          t      P>|t|      [0.025      0.975]\n",
            "------------------------------------------------------------------------------\n",
            "const        270.1529     32.197      8.391      0.000     207.006     333.300\n",
            "평당전세가         -0.4639      0.193     -2.399      0.017      -0.843      -0.085\n",
            "==============================================================================\n",
            "Omnibus:                     1524.782   Durbin-Watson:                   0.283\n",
            "Prob(Omnibus):                  0.000   Jarque-Bera (JB):            31437.154\n",
            "Skew:                           4.145   Prob(JB):                         0.00\n",
            "Kurtosis:                      21.864   Cond. No.                         352.\n",
            "==============================================================================\n",
            "\n",
            "Notes:\n",
            "[1] Standard Errors assume that the covariance matrix of the errors is correctly specified.\n"
          ]
        }
      ]
    },
    {
      "cell_type": "code",
      "source": [],
      "metadata": {
        "id": "7oUzaNnMvHse"
      },
      "execution_count": null,
      "outputs": []
    }
  ]
}