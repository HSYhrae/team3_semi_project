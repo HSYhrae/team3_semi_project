{
 "cells": [
  {
   "cell_type": "code",
   "execution_count": 1,
   "metadata": {
    "scrolled": false
   },
   "outputs": [
    {
     "name": "stdout",
     "output_type": "stream",
     "text": [
      "Requirement already satisfied: plotly in c:\\users\\spa84\\anaconda3\\lib\\site-packages (5.16.1)\n",
      "Requirement already satisfied: tenacity>=6.2.0 in c:\\users\\spa84\\anaconda3\\lib\\site-packages (from plotly) (8.2.3)\n",
      "Requirement already satisfied: packaging in c:\\users\\spa84\\anaconda3\\lib\\site-packages (from plotly) (23.1)\n",
      "Note: you may need to restart the kernel to use updated packages.\n"
     ]
    },
    {
     "name": "stderr",
     "output_type": "stream",
     "text": [
      "WARNING: Ignoring invalid distribution -atplotlib (c:\\users\\spa84\\anaconda3\\lib\\site-packages)\n",
      "WARNING: Ignoring invalid distribution -atplotlib (c:\\users\\spa84\\anaconda3\\lib\\site-packages)\n",
      "DEPRECATION: pyodbc 4.0.0-unsupported has a non-standard version number. pip 23.3 will enforce this behaviour change. A possible replacement is to upgrade to a newer version of pyodbc or contact the author to suggest that they release a version with a conforming version number. Discussion can be found at https://github.com/pypa/pip/issues/12063\n"
     ]
    }
   ],
   "source": [
    "pip install plotly"
   ]
  },
  {
   "cell_type": "code",
   "execution_count": 2,
   "metadata": {
    "scrolled": true
   },
   "outputs": [
    {
     "name": "stdout",
     "output_type": "stream",
     "text": [
      "Requirement already satisfied: statsmodels in c:\\users\\spa84\\anaconda3\\lib\\site-packages (0.13.5)\n",
      "Requirement already satisfied: pandas>=0.25 in c:\\users\\spa84\\anaconda3\\lib\\site-packages (from statsmodels) (1.3.2)\n",
      "Requirement already satisfied: patsy>=0.5.2 in c:\\users\\spa84\\anaconda3\\lib\\site-packages (from statsmodels) (0.5.3)\n",
      "Requirement already satisfied: packaging>=21.3 in c:\\users\\spa84\\anaconda3\\lib\\site-packages (from statsmodels) (23.1)\n",
      "Requirement already satisfied: scipy>=1.3 in c:\\users\\spa84\\anaconda3\\lib\\site-packages (from statsmodels) (1.7.3)\n",
      "Requirement already satisfied: numpy>=1.17 in c:\\users\\spa84\\anaconda3\\lib\\site-packages (from statsmodels) (1.19.5)\n",
      "Requirement already satisfied: python-dateutil>=2.7.3 in c:\\users\\spa84\\anaconda3\\lib\\site-packages (from pandas>=0.25->statsmodels) (2.8.1)\n",
      "Requirement already satisfied: pytz>=2017.3 in c:\\users\\spa84\\anaconda3\\lib\\site-packages (from pandas>=0.25->statsmodels) (2019.3)\n",
      "Requirement already satisfied: six in c:\\users\\spa84\\anaconda3\\lib\\site-packages (from patsy>=0.5.2->statsmodels) (1.15.0)\n",
      "Note: you may need to restart the kernel to use updated packages.\n"
     ]
    },
    {
     "name": "stderr",
     "output_type": "stream",
     "text": [
      "WARNING: Ignoring invalid distribution -atplotlib (c:\\users\\spa84\\anaconda3\\lib\\site-packages)\n",
      "WARNING: Ignoring invalid distribution -atplotlib (c:\\users\\spa84\\anaconda3\\lib\\site-packages)\n",
      "DEPRECATION: pyodbc 4.0.0-unsupported has a non-standard version number. pip 23.3 will enforce this behaviour change. A possible replacement is to upgrade to a newer version of pyodbc or contact the author to suggest that they release a version with a conforming version number. Discussion can be found at https://github.com/pypa/pip/issues/12063\n"
     ]
    }
   ],
   "source": [
    "pip install statsmodels"
   ]
  },
  {
   "cell_type": "code",
   "execution_count": 3,
   "metadata": {},
   "outputs": [
    {
     "name": "stdout",
     "output_type": "stream",
     "text": [
      "Requirement already satisfied: matplotlib in c:\\users\\spa84\\anaconda3\\lib\\site-packages (3.5.3)\n",
      "Requirement already satisfied: cycler>=0.10 in c:\\users\\spa84\\anaconda3\\lib\\site-packages (from matplotlib) (0.10.0)\n",
      "Requirement already satisfied: fonttools>=4.22.0 in c:\\users\\spa84\\anaconda3\\lib\\site-packages (from matplotlib) (4.38.0)\n",
      "Requirement already satisfied: kiwisolver>=1.0.1 in c:\\users\\spa84\\anaconda3\\lib\\site-packages (from matplotlib) (1.1.0)\n",
      "Requirement already satisfied: numpy>=1.17 in c:\\users\\spa84\\anaconda3\\lib\\site-packages (from matplotlib) (1.19.5)\n",
      "Requirement already satisfied: packaging>=20.0 in c:\\users\\spa84\\anaconda3\\lib\\site-packages (from matplotlib) (23.1)\n",
      "Requirement already satisfied: pillow>=6.2.0 in c:\\users\\spa84\\anaconda3\\lib\\site-packages (from matplotlib) (7.0.0)\n",
      "Requirement already satisfied: pyparsing>=2.2.1 in c:\\users\\spa84\\anaconda3\\lib\\site-packages (from matplotlib) (2.4.6)\n",
      "Requirement already satisfied: python-dateutil>=2.7 in c:\\users\\spa84\\anaconda3\\lib\\site-packages (from matplotlib) (2.8.1)\n",
      "Requirement already satisfied: six in c:\\users\\spa84\\anaconda3\\lib\\site-packages (from cycler>=0.10->matplotlib) (1.15.0)\n",
      "Requirement already satisfied: setuptools in c:\\users\\spa84\\anaconda3\\lib\\site-packages (from kiwisolver>=1.0.1->matplotlib) (45.2.0.post20200210)\n"
     ]
    },
    {
     "name": "stderr",
     "output_type": "stream",
     "text": [
      "WARNING: Ignoring invalid distribution -atplotlib (c:\\users\\spa84\\anaconda3\\lib\\site-packages)\n",
      "WARNING: Ignoring invalid distribution -atplotlib (c:\\users\\spa84\\anaconda3\\lib\\site-packages)\n",
      "DEPRECATION: pyodbc 4.0.0-unsupported has a non-standard version number. pip 23.3 will enforce this behaviour change. A possible replacement is to upgrade to a newer version of pyodbc or contact the author to suggest that they release a version with a conforming version number. Discussion can be found at https://github.com/pypa/pip/issues/12063\n",
      "WARNING: Ignoring invalid distribution -atplotlib (c:\\users\\spa84\\anaconda3\\lib\\site-packages)\n",
      "ERROR: Could not find a version that satisfies the requirement font-manager (from versions: none)\n",
      "ERROR: No matching distribution found for font-manager\n"
     ]
    }
   ],
   "source": [
    "!pip install -U matplotlib\n",
    "!pip install -U font-manager"
   ]
  },
  {
   "cell_type": "code",
   "execution_count": 4,
   "metadata": {
    "scrolled": true
   },
   "outputs": [
    {
     "name": "stderr",
     "output_type": "stream",
     "text": [
      "\n",
      "Bad key text.latex.preview in file C:\\Users\\spa84\\anaconda3\\lib\\site-packages\\matplotlib\\mpl-data\\stylelib\\_classic_test.mplstyle, line 123 ('text.latex.preview : False')\n",
      "You probably need to get an updated matplotlibrc file from\n",
      "https://github.com/matplotlib/matplotlib/blob/v3.5.3/matplotlibrc.template\n",
      "or from the matplotlib source distribution\n",
      "\n",
      "Bad key mathtext.fallback_to_cm in file C:\\Users\\spa84\\anaconda3\\lib\\site-packages\\matplotlib\\mpl-data\\stylelib\\_classic_test.mplstyle, line 155 ('mathtext.fallback_to_cm : True  # When True, use symbols from the Computer Modern')\n",
      "You probably need to get an updated matplotlibrc file from\n",
      "https://github.com/matplotlib/matplotlib/blob/v3.5.3/matplotlibrc.template\n",
      "or from the matplotlib source distribution\n",
      "\n",
      "Bad key savefig.jpeg_quality in file C:\\Users\\spa84\\anaconda3\\lib\\site-packages\\matplotlib\\mpl-data\\stylelib\\_classic_test.mplstyle, line 418 ('savefig.jpeg_quality: 95       # when a jpeg is saved, the default quality parameter.')\n",
      "You probably need to get an updated matplotlibrc file from\n",
      "https://github.com/matplotlib/matplotlib/blob/v3.5.3/matplotlibrc.template\n",
      "or from the matplotlib source distribution\n",
      "\n",
      "Bad key keymap.all_axes in file C:\\Users\\spa84\\anaconda3\\lib\\site-packages\\matplotlib\\mpl-data\\stylelib\\_classic_test.mplstyle, line 466 ('keymap.all_axes : a                 # enable all axes')\n",
      "You probably need to get an updated matplotlibrc file from\n",
      "https://github.com/matplotlib/matplotlib/blob/v3.5.3/matplotlibrc.template\n",
      "or from the matplotlib source distribution\n",
      "\n",
      "Bad key animation.avconv_path in file C:\\Users\\spa84\\anaconda3\\lib\\site-packages\\matplotlib\\mpl-data\\stylelib\\_classic_test.mplstyle, line 477 ('animation.avconv_path: avconv     # Path to avconv binary. Without full path')\n",
      "You probably need to get an updated matplotlibrc file from\n",
      "https://github.com/matplotlib/matplotlib/blob/v3.5.3/matplotlibrc.template\n",
      "or from the matplotlib source distribution\n",
      "\n",
      "Bad key animation.avconv_args in file C:\\Users\\spa84\\anaconda3\\lib\\site-packages\\matplotlib\\mpl-data\\stylelib\\_classic_test.mplstyle, line 479 ('animation.avconv_args:            # Additional arguments to pass to avconv')\n",
      "You probably need to get an updated matplotlibrc file from\n",
      "https://github.com/matplotlib/matplotlib/blob/v3.5.3/matplotlibrc.template\n",
      "or from the matplotlib source distribution\n"
     ]
    }
   ],
   "source": [
    "import pandas as pd\n",
    "import numpy as np\n",
    "import statsmodels.api as sm\n",
    "import statsmodels.stats.api as sms\n",
    "from scipy import stats\n",
    "import matplotlib.pyplot as plt\n",
    "import plotly.express as px\n",
    "import scipy\n",
    "import seaborn as sns\n",
    "import matplotlib.font_manager as fm\n",
    "from sklearn.preprocessing import MinMaxScaler\n",
    "from statsmodels.stats.outliers_influence import variance_inflation_factor\n",
    "import math\n",
    "import warnings"
   ]
  },
  {
   "cell_type": "code",
   "execution_count": 5,
   "metadata": {},
   "outputs": [],
   "source": [
    "warnings.simplefilter('ignore')"
   ]
  },
  {
   "cell_type": "code",
   "execution_count": 6,
   "metadata": {},
   "outputs": [],
   "source": [
    "font_path = \"C:\\\\Users\\\\spa84\\\\Downloads\\\\text_mining\\\\NanumGothic.ttf\"  # 나눔 폰트의 경로를 지정\n",
    "font_name = fm.FontProperties(fname=font_path).get_name()\n",
    "plt.rc(\"font\", family=font_name)"
   ]
  },
  {
   "cell_type": "code",
   "execution_count": 7,
   "metadata": {
    "scrolled": false
   },
   "outputs": [],
   "source": [
    "path = './data/'\n",
    "\n",
    "df = pd.read_csv(path+'Coordinates_Preprocessed.csv')"
   ]
  },
  {
   "cell_type": "code",
   "execution_count": 8,
   "metadata": {
    "scrolled": false
   },
   "outputs": [
    {
     "data": {
      "text/html": [
       "<div>\n",
       "<style scoped>\n",
       "    .dataframe tbody tr th:only-of-type {\n",
       "        vertical-align: middle;\n",
       "    }\n",
       "\n",
       "    .dataframe tbody tr th {\n",
       "        vertical-align: top;\n",
       "    }\n",
       "\n",
       "    .dataframe thead th {\n",
       "        text-align: right;\n",
       "    }\n",
       "</style>\n",
       "<table border=\"1\" class=\"dataframe\">\n",
       "  <thead>\n",
       "    <tr style=\"text-align: right;\">\n",
       "      <th></th>\n",
       "      <th>Building_Age</th>\n",
       "      <th>JS_Price</th>\n",
       "      <th>JS_BA</th>\n",
       "      <th>Population</th>\n",
       "      <th>UR</th>\n",
       "      <th>LC_index</th>\n",
       "      <th>CA_index</th>\n",
       "      <th>TC_index</th>\n",
       "      <th>SDT_index</th>\n",
       "      <th>HSP_index</th>\n",
       "      <th>Sell_Price</th>\n",
       "      <th>Crime_Rates</th>\n",
       "      <th>IR</th>\n",
       "      <th>Region_Name</th>\n",
       "      <th>Building_Use</th>\n",
       "      <th>YearMonth</th>\n",
       "      <th>Shortest_Distance_to_Subway</th>\n",
       "      <th>Shortest_Distance_to_School</th>\n",
       "      <th>Shortest_Distance_to_Univ</th>\n",
       "      <th>Shortest_Distance_to_Park</th>\n",
       "    </tr>\n",
       "  </thead>\n",
       "  <tbody>\n",
       "    <tr>\n",
       "      <th>0</th>\n",
       "      <td>14</td>\n",
       "      <td>22500</td>\n",
       "      <td>84.70</td>\n",
       "      <td>433809</td>\n",
       "      <td>4.1</td>\n",
       "      <td>90.4</td>\n",
       "      <td>95.3</td>\n",
       "      <td>91.0</td>\n",
       "      <td>107.634598</td>\n",
       "      <td>91.7</td>\n",
       "      <td>39900.00</td>\n",
       "      <td>0.967620</td>\n",
       "      <td>1.25</td>\n",
       "      <td>강동구</td>\n",
       "      <td>아파트</td>\n",
       "      <td>201703</td>\n",
       "      <td>218.546662</td>\n",
       "      <td>342.320637</td>\n",
       "      <td>2080.047982</td>\n",
       "      <td>159.232767</td>\n",
       "    </tr>\n",
       "    <tr>\n",
       "      <th>1</th>\n",
       "      <td>0</td>\n",
       "      <td>16000</td>\n",
       "      <td>17.45</td>\n",
       "      <td>662019</td>\n",
       "      <td>3.4</td>\n",
       "      <td>98.0</td>\n",
       "      <td>101.1</td>\n",
       "      <td>99.1</td>\n",
       "      <td>112.039216</td>\n",
       "      <td>131.7</td>\n",
       "      <td>18000.00</td>\n",
       "      <td>0.834577</td>\n",
       "      <td>1.25</td>\n",
       "      <td>송파구</td>\n",
       "      <td>오피스텔</td>\n",
       "      <td>201912</td>\n",
       "      <td>365.167081</td>\n",
       "      <td>428.396368</td>\n",
       "      <td>2078.432085</td>\n",
       "      <td>1250.766345</td>\n",
       "    </tr>\n",
       "    <tr>\n",
       "      <th>2</th>\n",
       "      <td>30</td>\n",
       "      <td>42000</td>\n",
       "      <td>108.47</td>\n",
       "      <td>553927</td>\n",
       "      <td>2.7</td>\n",
       "      <td>78.0</td>\n",
       "      <td>84.3</td>\n",
       "      <td>81.7</td>\n",
       "      <td>120.439963</td>\n",
       "      <td>74.7</td>\n",
       "      <td>135000.00</td>\n",
       "      <td>1.537764</td>\n",
       "      <td>2.50</td>\n",
       "      <td>강남구</td>\n",
       "      <td>아파트</td>\n",
       "      <td>201310</td>\n",
       "      <td>698.127221</td>\n",
       "      <td>334.807784</td>\n",
       "      <td>1514.222790</td>\n",
       "      <td>918.048403</td>\n",
       "    </tr>\n",
       "    <tr>\n",
       "      <th>3</th>\n",
       "      <td>4</td>\n",
       "      <td>48000</td>\n",
       "      <td>84.95</td>\n",
       "      <td>674828</td>\n",
       "      <td>2.9</td>\n",
       "      <td>72.9</td>\n",
       "      <td>80.0</td>\n",
       "      <td>77.1</td>\n",
       "      <td>114.366829</td>\n",
       "      <td>79.4</td>\n",
       "      <td>91646.15</td>\n",
       "      <td>1.145652</td>\n",
       "      <td>3.25</td>\n",
       "      <td>송파구</td>\n",
       "      <td>아파트</td>\n",
       "      <td>201110</td>\n",
       "      <td>536.947700</td>\n",
       "      <td>24.176463</td>\n",
       "      <td>3817.518298</td>\n",
       "      <td>838.633151</td>\n",
       "    </tr>\n",
       "    <tr>\n",
       "      <th>4</th>\n",
       "      <td>0</td>\n",
       "      <td>70000</td>\n",
       "      <td>84.99</td>\n",
       "      <td>302243</td>\n",
       "      <td>2.1</td>\n",
       "      <td>109.0</td>\n",
       "      <td>109.0</td>\n",
       "      <td>110.3</td>\n",
       "      <td>87.677816</td>\n",
       "      <td>167.9</td>\n",
       "      <td>108000.00</td>\n",
       "      <td>0.725826</td>\n",
       "      <td>2.50</td>\n",
       "      <td>서대문구</td>\n",
       "      <td>아파트</td>\n",
       "      <td>202208</td>\n",
       "      <td>1173.890039</td>\n",
       "      <td>335.949816</td>\n",
       "      <td>1165.416466</td>\n",
       "      <td>701.477137</td>\n",
       "    </tr>\n",
       "    <tr>\n",
       "      <th>...</th>\n",
       "      <td>...</td>\n",
       "      <td>...</td>\n",
       "      <td>...</td>\n",
       "      <td>...</td>\n",
       "      <td>...</td>\n",
       "      <td>...</td>\n",
       "      <td>...</td>\n",
       "      <td>...</td>\n",
       "      <td>...</td>\n",
       "      <td>...</td>\n",
       "      <td>...</td>\n",
       "      <td>...</td>\n",
       "      <td>...</td>\n",
       "      <td>...</td>\n",
       "      <td>...</td>\n",
       "      <td>...</td>\n",
       "      <td>...</td>\n",
       "      <td>...</td>\n",
       "      <td>...</td>\n",
       "      <td>...</td>\n",
       "    </tr>\n",
       "    <tr>\n",
       "      <th>4995</th>\n",
       "      <td>0</td>\n",
       "      <td>133000</td>\n",
       "      <td>84.86</td>\n",
       "      <td>530126</td>\n",
       "      <td>3.4</td>\n",
       "      <td>102.6</td>\n",
       "      <td>101.3</td>\n",
       "      <td>100.8</td>\n",
       "      <td>128.819696</td>\n",
       "      <td>158.1</td>\n",
       "      <td>193333.33</td>\n",
       "      <td>1.352069</td>\n",
       "      <td>0.50</td>\n",
       "      <td>강남구</td>\n",
       "      <td>아파트</td>\n",
       "      <td>202011</td>\n",
       "      <td>1341.605321</td>\n",
       "      <td>298.254673</td>\n",
       "      <td>3567.318940</td>\n",
       "      <td>1272.216183</td>\n",
       "    </tr>\n",
       "    <tr>\n",
       "      <th>4996</th>\n",
       "      <td>10</td>\n",
       "      <td>49000</td>\n",
       "      <td>84.91</td>\n",
       "      <td>427540</td>\n",
       "      <td>3.1</td>\n",
       "      <td>74.5</td>\n",
       "      <td>81.5</td>\n",
       "      <td>78.5</td>\n",
       "      <td>102.461258</td>\n",
       "      <td>74.2</td>\n",
       "      <td>81850.00</td>\n",
       "      <td>1.221012</td>\n",
       "      <td>3.00</td>\n",
       "      <td>서초구</td>\n",
       "      <td>아파트</td>\n",
       "      <td>201207</td>\n",
       "      <td>440.715060</td>\n",
       "      <td>269.506677</td>\n",
       "      <td>1053.568719</td>\n",
       "      <td>2804.609144</td>\n",
       "    </tr>\n",
       "    <tr>\n",
       "      <th>4997</th>\n",
       "      <td>0</td>\n",
       "      <td>23000</td>\n",
       "      <td>30.00</td>\n",
       "      <td>425539</td>\n",
       "      <td>4.5</td>\n",
       "      <td>93.9</td>\n",
       "      <td>98.0</td>\n",
       "      <td>94.1</td>\n",
       "      <td>94.786910</td>\n",
       "      <td>106.1</td>\n",
       "      <td>27038.00</td>\n",
       "      <td>0.907344</td>\n",
       "      <td>1.50</td>\n",
       "      <td>강동구</td>\n",
       "      <td>연립다세대</td>\n",
       "      <td>201803</td>\n",
       "      <td>364.897534</td>\n",
       "      <td>391.843327</td>\n",
       "      <td>1835.115994</td>\n",
       "      <td>251.807047</td>\n",
       "    </tr>\n",
       "    <tr>\n",
       "      <th>4998</th>\n",
       "      <td>0</td>\n",
       "      <td>71000</td>\n",
       "      <td>84.65</td>\n",
       "      <td>571614</td>\n",
       "      <td>3.8</td>\n",
       "      <td>106.9</td>\n",
       "      <td>103.8</td>\n",
       "      <td>103.4</td>\n",
       "      <td>117.233889</td>\n",
       "      <td>177.7</td>\n",
       "      <td>110000.00</td>\n",
       "      <td>0.671993</td>\n",
       "      <td>0.50</td>\n",
       "      <td>강서구</td>\n",
       "      <td>아파트</td>\n",
       "      <td>202106</td>\n",
       "      <td>0.000000</td>\n",
       "      <td>809.669099</td>\n",
       "      <td>2549.064034</td>\n",
       "      <td>864.197138</td>\n",
       "    </tr>\n",
       "    <tr>\n",
       "      <th>4999</th>\n",
       "      <td>4</td>\n",
       "      <td>34000</td>\n",
       "      <td>84.54</td>\n",
       "      <td>455617</td>\n",
       "      <td>3.6</td>\n",
       "      <td>84.1</td>\n",
       "      <td>88.5</td>\n",
       "      <td>86.5</td>\n",
       "      <td>120.617174</td>\n",
       "      <td>82.5</td>\n",
       "      <td>38666.67</td>\n",
       "      <td>0.884658</td>\n",
       "      <td>1.50</td>\n",
       "      <td>성북구</td>\n",
       "      <td>아파트</td>\n",
       "      <td>201507</td>\n",
       "      <td>586.255863</td>\n",
       "      <td>403.445394</td>\n",
       "      <td>1342.980946</td>\n",
       "      <td>995.127801</td>\n",
       "    </tr>\n",
       "  </tbody>\n",
       "</table>\n",
       "<p>5000 rows × 20 columns</p>\n",
       "</div>"
      ],
      "text/plain": [
       "      Building_Age  JS_Price   JS_BA  Population   UR  LC_index  CA_index  \\\n",
       "0               14     22500   84.70      433809  4.1      90.4      95.3   \n",
       "1                0     16000   17.45      662019  3.4      98.0     101.1   \n",
       "2               30     42000  108.47      553927  2.7      78.0      84.3   \n",
       "3                4     48000   84.95      674828  2.9      72.9      80.0   \n",
       "4                0     70000   84.99      302243  2.1     109.0     109.0   \n",
       "...            ...       ...     ...         ...  ...       ...       ...   \n",
       "4995             0    133000   84.86      530126  3.4     102.6     101.3   \n",
       "4996            10     49000   84.91      427540  3.1      74.5      81.5   \n",
       "4997             0     23000   30.00      425539  4.5      93.9      98.0   \n",
       "4998             0     71000   84.65      571614  3.8     106.9     103.8   \n",
       "4999             4     34000   84.54      455617  3.6      84.1      88.5   \n",
       "\n",
       "      TC_index   SDT_index  HSP_index  Sell_Price  Crime_Rates    IR  \\\n",
       "0         91.0  107.634598       91.7    39900.00     0.967620  1.25   \n",
       "1         99.1  112.039216      131.7    18000.00     0.834577  1.25   \n",
       "2         81.7  120.439963       74.7   135000.00     1.537764  2.50   \n",
       "3         77.1  114.366829       79.4    91646.15     1.145652  3.25   \n",
       "4        110.3   87.677816      167.9   108000.00     0.725826  2.50   \n",
       "...        ...         ...        ...         ...          ...   ...   \n",
       "4995     100.8  128.819696      158.1   193333.33     1.352069  0.50   \n",
       "4996      78.5  102.461258       74.2    81850.00     1.221012  3.00   \n",
       "4997      94.1   94.786910      106.1    27038.00     0.907344  1.50   \n",
       "4998     103.4  117.233889      177.7   110000.00     0.671993  0.50   \n",
       "4999      86.5  120.617174       82.5    38666.67     0.884658  1.50   \n",
       "\n",
       "     Region_Name Building_Use  YearMonth  Shortest_Distance_to_Subway  \\\n",
       "0            강동구          아파트     201703                   218.546662   \n",
       "1            송파구         오피스텔     201912                   365.167081   \n",
       "2            강남구          아파트     201310                   698.127221   \n",
       "3            송파구          아파트     201110                   536.947700   \n",
       "4           서대문구          아파트     202208                  1173.890039   \n",
       "...          ...          ...        ...                          ...   \n",
       "4995         강남구          아파트     202011                  1341.605321   \n",
       "4996         서초구          아파트     201207                   440.715060   \n",
       "4997         강동구        연립다세대     201803                   364.897534   \n",
       "4998         강서구          아파트     202106                     0.000000   \n",
       "4999         성북구          아파트     201507                   586.255863   \n",
       "\n",
       "      Shortest_Distance_to_School  Shortest_Distance_to_Univ  \\\n",
       "0                      342.320637                2080.047982   \n",
       "1                      428.396368                2078.432085   \n",
       "2                      334.807784                1514.222790   \n",
       "3                       24.176463                3817.518298   \n",
       "4                      335.949816                1165.416466   \n",
       "...                           ...                        ...   \n",
       "4995                   298.254673                3567.318940   \n",
       "4996                   269.506677                1053.568719   \n",
       "4997                   391.843327                1835.115994   \n",
       "4998                   809.669099                2549.064034   \n",
       "4999                   403.445394                1342.980946   \n",
       "\n",
       "      Shortest_Distance_to_Park  \n",
       "0                    159.232767  \n",
       "1                   1250.766345  \n",
       "2                    918.048403  \n",
       "3                    838.633151  \n",
       "4                    701.477137  \n",
       "...                         ...  \n",
       "4995                1272.216183  \n",
       "4996                2804.609144  \n",
       "4997                 251.807047  \n",
       "4998                 864.197138  \n",
       "4999                 995.127801  \n",
       "\n",
       "[5000 rows x 20 columns]"
      ]
     },
     "execution_count": 8,
     "metadata": {},
     "output_type": "execute_result"
    }
   ],
   "source": [
    "df"
   ]
  },
  {
   "cell_type": "markdown",
   "metadata": {},
   "source": [
    "## Categorical:\n",
    "\n",
    "- Nominal(variables that have two or more categories, but which do not have an intrinsic order.)\n",
    "\n",
    "    - Region_Name : 자치구 명\n",
    "    - Building_Use : 건물 용도\n",
    "    \n",
    "- Ordinal(variables that have two or more categories just like nominal variables. Only the categories can also be ordered or ranked.)\n",
    "\n",
    "    \n",
    "## Numeric:\n",
    "\n",
    "- Discrete\n",
    "    - YearMonth : 년월\n",
    "    - Building_Age : 건물연식\n",
    "    - JS_Price : 전세가\n",
    "   \n",
    "- Continous\n",
    "    - Sell_Price : 매매 가격\n",
    "    - JS_BA = JS_Building Area : 임대 면적\n",
    "    - lR = Interest Rate : 금리\n",
    "    - UR = Unemployment Rate : 실업률\n",
    "    - LC_index = Leading Composite index : 선행종합 지수\n",
    "    - CA_index = Comprehensive Accompany index : 동행종합 지수\n",
    "    - TC_index = Trailing Composite index : 후행종합 지수\n",
    "    - SDT_index = Supply and Demand Trend index = 전세수급동향 지수\n",
    "    - HSP_index = \n",
    "    - Population : 인구수\n",
    "    - Crime_Rates : 범죄율\n",
    "    - Shortest_Distance_to_Subway : 가장 가까운 지하철역과의 거리\n",
    "    - Shortest_Distance_to_School : 가장 가까운 초중고등학교와의 거리\n",
    "    - Shortest_Distance_to_Univ : 가장 가까운 대학교와의 거리\n",
    "    - Shortest_Distance_to_Park : 가장 가까운 공원과의 거리\n",
    "    "
   ]
  },
  {
   "cell_type": "code",
   "execution_count": 9,
   "metadata": {
    "scrolled": true
   },
   "outputs": [
    {
     "name": "stdout",
     "output_type": "stream",
     "text": [
      "<class 'pandas.core.frame.DataFrame'>\n",
      "RangeIndex: 5000 entries, 0 to 4999\n",
      "Data columns (total 20 columns):\n",
      " #   Column                       Non-Null Count  Dtype  \n",
      "---  ------                       --------------  -----  \n",
      " 0   Building_Age                 5000 non-null   int64  \n",
      " 1   JS_Price                     5000 non-null   int64  \n",
      " 2   JS_BA                        5000 non-null   float64\n",
      " 3   Population                   5000 non-null   int64  \n",
      " 4   UR                           5000 non-null   float64\n",
      " 5   LC_index                     5000 non-null   float64\n",
      " 6   CA_index                     5000 non-null   float64\n",
      " 7   TC_index                     5000 non-null   float64\n",
      " 8   SDT_index                    5000 non-null   float64\n",
      " 9   HSP_index                    5000 non-null   float64\n",
      " 10  Sell_Price                   5000 non-null   float64\n",
      " 11  Crime_Rates                  5000 non-null   float64\n",
      " 12  IR                           5000 non-null   float64\n",
      " 13  Region_Name                  5000 non-null   object \n",
      " 14  Building_Use                 5000 non-null   object \n",
      " 15  YearMonth                    5000 non-null   int64  \n",
      " 16  Shortest_Distance_to_Subway  5000 non-null   float64\n",
      " 17  Shortest_Distance_to_School  5000 non-null   float64\n",
      " 18  Shortest_Distance_to_Univ    5000 non-null   float64\n",
      " 19  Shortest_Distance_to_Park    5000 non-null   float64\n",
      "dtypes: float64(14), int64(4), object(2)\n",
      "memory usage: 781.4+ KB\n"
     ]
    }
   ],
   "source": [
    "df.info()"
   ]
  },
  {
   "cell_type": "markdown",
   "metadata": {},
   "source": [
    "## Feature_Scaling"
   ]
  },
  {
   "cell_type": "code",
   "execution_count": 10,
   "metadata": {},
   "outputs": [],
   "source": [
    "# Min-Max 스케일러 생성\n",
    "scaler = MinMaxScaler()\n",
    "\n",
    "# 정규화할 열 선택 (수치형 데이터만)\n",
    "numeric_columns = df.select_dtypes(include=['float', 'int']).columns\n",
    "\n",
    "# 데이터 정규화\n",
    "df[numeric_columns] = scaler.fit_transform(df[numeric_columns])"
   ]
  },
  {
   "cell_type": "code",
   "execution_count": 11,
   "metadata": {},
   "outputs": [],
   "source": [
    "def target_encoding(df, categorical_columns, target_column):\n",
    "    for categorical_column in categorical_columns:\n",
    "        encoding_map = df.groupby(categorical_column)[target_column].mean().to_dict()\n",
    "        df[categorical_column + '_encoded'] = df[categorical_column].map(encoding_map)\n",
    "        df.drop(columns=[categorical_column], inplace=True)\n",
    "    return df\n",
    "\n",
    "# 범주형 변수 리스트 지정\n",
    "categorical_columns = ['Region_Name', 'YearMonth', 'Building_Use']\n",
    "target_column = 'JS_Price'\n",
    "\n",
    "# 타겟 인코딩 적용\n",
    "df_encoded = target_encoding(df, categorical_columns, target_column)"
   ]
  },
  {
   "cell_type": "code",
   "execution_count": 12,
   "metadata": {
    "scrolled": true
   },
   "outputs": [
    {
     "data": {
      "text/html": [
       "<div>\n",
       "<style scoped>\n",
       "    .dataframe tbody tr th:only-of-type {\n",
       "        vertical-align: middle;\n",
       "    }\n",
       "\n",
       "    .dataframe tbody tr th {\n",
       "        vertical-align: top;\n",
       "    }\n",
       "\n",
       "    .dataframe thead th {\n",
       "        text-align: right;\n",
       "    }\n",
       "</style>\n",
       "<table border=\"1\" class=\"dataframe\">\n",
       "  <thead>\n",
       "    <tr style=\"text-align: right;\">\n",
       "      <th></th>\n",
       "      <th>Building_Age</th>\n",
       "      <th>JS_Price</th>\n",
       "      <th>JS_BA</th>\n",
       "      <th>Population</th>\n",
       "      <th>UR</th>\n",
       "      <th>LC_index</th>\n",
       "      <th>CA_index</th>\n",
       "      <th>TC_index</th>\n",
       "      <th>SDT_index</th>\n",
       "      <th>HSP_index</th>\n",
       "      <th>Sell_Price</th>\n",
       "      <th>Crime_Rates</th>\n",
       "      <th>IR</th>\n",
       "      <th>Shortest_Distance_to_Subway</th>\n",
       "      <th>Shortest_Distance_to_School</th>\n",
       "      <th>Shortest_Distance_to_Univ</th>\n",
       "      <th>Shortest_Distance_to_Park</th>\n",
       "      <th>Region_Name_encoded</th>\n",
       "      <th>YearMonth_encoded</th>\n",
       "      <th>Building_Use_encoded</th>\n",
       "    </tr>\n",
       "  </thead>\n",
       "  <tbody>\n",
       "    <tr>\n",
       "      <th>0</th>\n",
       "      <td>0.277778</td>\n",
       "      <td>0.066004</td>\n",
       "      <td>0.313281</td>\n",
       "      <td>0.566218</td>\n",
       "      <td>0.555556</td>\n",
       "      <td>0.470588</td>\n",
       "      <td>0.532710</td>\n",
       "      <td>0.423174</td>\n",
       "      <td>0.613575</td>\n",
       "      <td>0.168385</td>\n",
       "      <td>0.055587</td>\n",
       "      <td>0.128306</td>\n",
       "      <td>0.250000</td>\n",
       "      <td>0.042432</td>\n",
       "      <td>0.257383</td>\n",
       "      <td>0.290766</td>\n",
       "      <td>0.040859</td>\n",
       "      <td>0.101251</td>\n",
       "      <td>0.122320</td>\n",
       "      <td>0.118534</td>\n",
       "    </tr>\n",
       "    <tr>\n",
       "      <th>1</th>\n",
       "      <td>0.018519</td>\n",
       "      <td>0.045598</td>\n",
       "      <td>0.025543</td>\n",
       "      <td>0.976947</td>\n",
       "      <td>0.361111</td>\n",
       "      <td>0.664962</td>\n",
       "      <td>0.713396</td>\n",
       "      <td>0.627204</td>\n",
       "      <td>0.679312</td>\n",
       "      <td>0.512027</td>\n",
       "      <td>0.019624</td>\n",
       "      <td>0.087958</td>\n",
       "      <td>0.250000</td>\n",
       "      <td>0.070899</td>\n",
       "      <td>0.327019</td>\n",
       "      <td>0.290537</td>\n",
       "      <td>0.383708</td>\n",
       "      <td>0.144617</td>\n",
       "      <td>0.141753</td>\n",
       "      <td>0.060574</td>\n",
       "    </tr>\n",
       "    <tr>\n",
       "      <th>2</th>\n",
       "      <td>0.574074</td>\n",
       "      <td>0.127224</td>\n",
       "      <td>0.414984</td>\n",
       "      <td>0.782404</td>\n",
       "      <td>0.166667</td>\n",
       "      <td>0.153453</td>\n",
       "      <td>0.190031</td>\n",
       "      <td>0.188917</td>\n",
       "      <td>0.804690</td>\n",
       "      <td>0.022337</td>\n",
       "      <td>0.211758</td>\n",
       "      <td>0.301214</td>\n",
       "      <td>0.666667</td>\n",
       "      <td>0.135544</td>\n",
       "      <td>0.251305</td>\n",
       "      <td>0.210720</td>\n",
       "      <td>0.279202</td>\n",
       "      <td>0.167693</td>\n",
       "      <td>0.104663</td>\n",
       "      <td>0.118534</td>\n",
       "    </tr>\n",
       "    <tr>\n",
       "      <th>3</th>\n",
       "      <td>0.092593</td>\n",
       "      <td>0.146061</td>\n",
       "      <td>0.314351</td>\n",
       "      <td>1.000000</td>\n",
       "      <td>0.222222</td>\n",
       "      <td>0.023018</td>\n",
       "      <td>0.056075</td>\n",
       "      <td>0.073048</td>\n",
       "      <td>0.714051</td>\n",
       "      <td>0.062715</td>\n",
       "      <td>0.140564</td>\n",
       "      <td>0.182298</td>\n",
       "      <td>0.916667</td>\n",
       "      <td>0.104250</td>\n",
       "      <td>0.000000</td>\n",
       "      <td>0.536561</td>\n",
       "      <td>0.254258</td>\n",
       "      <td>0.144617</td>\n",
       "      <td>0.065921</td>\n",
       "      <td>0.118534</td>\n",
       "    </tr>\n",
       "    <tr>\n",
       "      <th>4</th>\n",
       "      <td>0.018519</td>\n",
       "      <td>0.215130</td>\n",
       "      <td>0.314522</td>\n",
       "      <td>0.329427</td>\n",
       "      <td>0.000000</td>\n",
       "      <td>0.946292</td>\n",
       "      <td>0.959502</td>\n",
       "      <td>0.909320</td>\n",
       "      <td>0.315729</td>\n",
       "      <td>0.823024</td>\n",
       "      <td>0.167419</td>\n",
       "      <td>0.054977</td>\n",
       "      <td>0.666667</td>\n",
       "      <td>0.227915</td>\n",
       "      <td>0.252229</td>\n",
       "      <td>0.161375</td>\n",
       "      <td>0.211177</td>\n",
       "      <td>0.104693</td>\n",
       "      <td>0.181125</td>\n",
       "      <td>0.118534</td>\n",
       "    </tr>\n",
       "    <tr>\n",
       "      <th>...</th>\n",
       "      <td>...</td>\n",
       "      <td>...</td>\n",
       "      <td>...</td>\n",
       "      <td>...</td>\n",
       "      <td>...</td>\n",
       "      <td>...</td>\n",
       "      <td>...</td>\n",
       "      <td>...</td>\n",
       "      <td>...</td>\n",
       "      <td>...</td>\n",
       "      <td>...</td>\n",
       "      <td>...</td>\n",
       "      <td>...</td>\n",
       "      <td>...</td>\n",
       "      <td>...</td>\n",
       "      <td>...</td>\n",
       "      <td>...</td>\n",
       "      <td>...</td>\n",
       "      <td>...</td>\n",
       "      <td>...</td>\n",
       "    </tr>\n",
       "    <tr>\n",
       "      <th>4995</th>\n",
       "      <td>0.018519</td>\n",
       "      <td>0.412917</td>\n",
       "      <td>0.313965</td>\n",
       "      <td>0.739568</td>\n",
       "      <td>0.361111</td>\n",
       "      <td>0.782609</td>\n",
       "      <td>0.719626</td>\n",
       "      <td>0.670025</td>\n",
       "      <td>0.929754</td>\n",
       "      <td>0.738832</td>\n",
       "      <td>0.307551</td>\n",
       "      <td>0.244898</td>\n",
       "      <td>0.000000</td>\n",
       "      <td>0.260478</td>\n",
       "      <td>0.221733</td>\n",
       "      <td>0.501166</td>\n",
       "      <td>0.390445</td>\n",
       "      <td>0.167693</td>\n",
       "      <td>0.124061</td>\n",
       "      <td>0.118534</td>\n",
       "    </tr>\n",
       "    <tr>\n",
       "      <th>4996</th>\n",
       "      <td>0.203704</td>\n",
       "      <td>0.149201</td>\n",
       "      <td>0.314179</td>\n",
       "      <td>0.554935</td>\n",
       "      <td>0.277778</td>\n",
       "      <td>0.063939</td>\n",
       "      <td>0.102804</td>\n",
       "      <td>0.108312</td>\n",
       "      <td>0.536365</td>\n",
       "      <td>0.018041</td>\n",
       "      <td>0.124477</td>\n",
       "      <td>0.205153</td>\n",
       "      <td>0.833333</td>\n",
       "      <td>0.085567</td>\n",
       "      <td>0.198475</td>\n",
       "      <td>0.145552</td>\n",
       "      <td>0.871767</td>\n",
       "      <td>0.177666</td>\n",
       "      <td>0.080146</td>\n",
       "      <td>0.118534</td>\n",
       "    </tr>\n",
       "    <tr>\n",
       "      <th>4997</th>\n",
       "      <td>0.018519</td>\n",
       "      <td>0.067574</td>\n",
       "      <td>0.079240</td>\n",
       "      <td>0.551333</td>\n",
       "      <td>0.666667</td>\n",
       "      <td>0.560102</td>\n",
       "      <td>0.616822</td>\n",
       "      <td>0.501259</td>\n",
       "      <td>0.421829</td>\n",
       "      <td>0.292096</td>\n",
       "      <td>0.034466</td>\n",
       "      <td>0.110026</td>\n",
       "      <td>0.333333</td>\n",
       "      <td>0.070846</td>\n",
       "      <td>0.297447</td>\n",
       "      <td>0.256116</td>\n",
       "      <td>0.069937</td>\n",
       "      <td>0.101251</td>\n",
       "      <td>0.123960</td>\n",
       "      <td>0.061023</td>\n",
       "    </tr>\n",
       "    <tr>\n",
       "      <th>4998</th>\n",
       "      <td>0.018519</td>\n",
       "      <td>0.218269</td>\n",
       "      <td>0.313067</td>\n",
       "      <td>0.814237</td>\n",
       "      <td>0.472222</td>\n",
       "      <td>0.892583</td>\n",
       "      <td>0.797508</td>\n",
       "      <td>0.735516</td>\n",
       "      <td>0.756841</td>\n",
       "      <td>0.907216</td>\n",
       "      <td>0.170704</td>\n",
       "      <td>0.038651</td>\n",
       "      <td>0.000000</td>\n",
       "      <td>0.000000</td>\n",
       "      <td>0.635474</td>\n",
       "      <td>0.357116</td>\n",
       "      <td>0.262287</td>\n",
       "      <td>0.074452</td>\n",
       "      <td>0.159132</td>\n",
       "      <td>0.118534</td>\n",
       "    </tr>\n",
       "    <tr>\n",
       "      <th>4999</th>\n",
       "      <td>0.092593</td>\n",
       "      <td>0.102108</td>\n",
       "      <td>0.312596</td>\n",
       "      <td>0.605467</td>\n",
       "      <td>0.416667</td>\n",
       "      <td>0.309463</td>\n",
       "      <td>0.320872</td>\n",
       "      <td>0.309824</td>\n",
       "      <td>0.807335</td>\n",
       "      <td>0.089347</td>\n",
       "      <td>0.053562</td>\n",
       "      <td>0.103146</td>\n",
       "      <td>0.333333</td>\n",
       "      <td>0.113824</td>\n",
       "      <td>0.306833</td>\n",
       "      <td>0.186495</td>\n",
       "      <td>0.303412</td>\n",
       "      <td>0.100452</td>\n",
       "      <td>0.106406</td>\n",
       "      <td>0.118534</td>\n",
       "    </tr>\n",
       "  </tbody>\n",
       "</table>\n",
       "<p>5000 rows × 20 columns</p>\n",
       "</div>"
      ],
      "text/plain": [
       "      Building_Age  JS_Price     JS_BA  Population        UR  LC_index  \\\n",
       "0         0.277778  0.066004  0.313281    0.566218  0.555556  0.470588   \n",
       "1         0.018519  0.045598  0.025543    0.976947  0.361111  0.664962   \n",
       "2         0.574074  0.127224  0.414984    0.782404  0.166667  0.153453   \n",
       "3         0.092593  0.146061  0.314351    1.000000  0.222222  0.023018   \n",
       "4         0.018519  0.215130  0.314522    0.329427  0.000000  0.946292   \n",
       "...            ...       ...       ...         ...       ...       ...   \n",
       "4995      0.018519  0.412917  0.313965    0.739568  0.361111  0.782609   \n",
       "4996      0.203704  0.149201  0.314179    0.554935  0.277778  0.063939   \n",
       "4997      0.018519  0.067574  0.079240    0.551333  0.666667  0.560102   \n",
       "4998      0.018519  0.218269  0.313067    0.814237  0.472222  0.892583   \n",
       "4999      0.092593  0.102108  0.312596    0.605467  0.416667  0.309463   \n",
       "\n",
       "      CA_index  TC_index  SDT_index  HSP_index  Sell_Price  Crime_Rates  \\\n",
       "0     0.532710  0.423174   0.613575   0.168385    0.055587     0.128306   \n",
       "1     0.713396  0.627204   0.679312   0.512027    0.019624     0.087958   \n",
       "2     0.190031  0.188917   0.804690   0.022337    0.211758     0.301214   \n",
       "3     0.056075  0.073048   0.714051   0.062715    0.140564     0.182298   \n",
       "4     0.959502  0.909320   0.315729   0.823024    0.167419     0.054977   \n",
       "...        ...       ...        ...        ...         ...          ...   \n",
       "4995  0.719626  0.670025   0.929754   0.738832    0.307551     0.244898   \n",
       "4996  0.102804  0.108312   0.536365   0.018041    0.124477     0.205153   \n",
       "4997  0.616822  0.501259   0.421829   0.292096    0.034466     0.110026   \n",
       "4998  0.797508  0.735516   0.756841   0.907216    0.170704     0.038651   \n",
       "4999  0.320872  0.309824   0.807335   0.089347    0.053562     0.103146   \n",
       "\n",
       "            IR  Shortest_Distance_to_Subway  Shortest_Distance_to_School  \\\n",
       "0     0.250000                     0.042432                     0.257383   \n",
       "1     0.250000                     0.070899                     0.327019   \n",
       "2     0.666667                     0.135544                     0.251305   \n",
       "3     0.916667                     0.104250                     0.000000   \n",
       "4     0.666667                     0.227915                     0.252229   \n",
       "...        ...                          ...                          ...   \n",
       "4995  0.000000                     0.260478                     0.221733   \n",
       "4996  0.833333                     0.085567                     0.198475   \n",
       "4997  0.333333                     0.070846                     0.297447   \n",
       "4998  0.000000                     0.000000                     0.635474   \n",
       "4999  0.333333                     0.113824                     0.306833   \n",
       "\n",
       "      Shortest_Distance_to_Univ  Shortest_Distance_to_Park  \\\n",
       "0                      0.290766                   0.040859   \n",
       "1                      0.290537                   0.383708   \n",
       "2                      0.210720                   0.279202   \n",
       "3                      0.536561                   0.254258   \n",
       "4                      0.161375                   0.211177   \n",
       "...                         ...                        ...   \n",
       "4995                   0.501166                   0.390445   \n",
       "4996                   0.145552                   0.871767   \n",
       "4997                   0.256116                   0.069937   \n",
       "4998                   0.357116                   0.262287   \n",
       "4999                   0.186495                   0.303412   \n",
       "\n",
       "      Region_Name_encoded  YearMonth_encoded  Building_Use_encoded  \n",
       "0                0.101251           0.122320              0.118534  \n",
       "1                0.144617           0.141753              0.060574  \n",
       "2                0.167693           0.104663              0.118534  \n",
       "3                0.144617           0.065921              0.118534  \n",
       "4                0.104693           0.181125              0.118534  \n",
       "...                   ...                ...                   ...  \n",
       "4995             0.167693           0.124061              0.118534  \n",
       "4996             0.177666           0.080146              0.118534  \n",
       "4997             0.101251           0.123960              0.061023  \n",
       "4998             0.074452           0.159132              0.118534  \n",
       "4999             0.100452           0.106406              0.118534  \n",
       "\n",
       "[5000 rows x 20 columns]"
      ]
     },
     "execution_count": 12,
     "metadata": {},
     "output_type": "execute_result"
    }
   ],
   "source": [
    "df_encoded"
   ]
  },
  {
   "cell_type": "markdown",
   "metadata": {},
   "source": [
    "## 데이터 분할(극단치와 극단치가 아닌 두 개의 df로)"
   ]
  },
  {
   "cell_type": "code",
   "execution_count": 13,
   "metadata": {},
   "outputs": [],
   "source": [
    "# 극단치를 확인할 컬럼 선택\n",
    "outlier_columns = ['JS_Price', 'Sell_Price', 'JS_BA', 'Shortest_Distance_to_Subway', 'Shortest_Distance_to_School', 'Shortest_Distance_to_Univ']  # 여러 개의 컬럼을 선택\n",
    "\n",
    "# 각 컬럼에 대한 극단치 확인\n",
    "outliers = df_encoded.copy()  # 극단치를 모두 포함하는 복사본을 만듭니다.\n",
    "threshold = 1.96  # 이상치로 간주할 Z-Score 임계값 (조절 가능)\n",
    "\n",
    "for outlier_column in outlier_columns:\n",
    "    z_scores = np.abs((df_encoded[outlier_column] - df_encoded[outlier_column].mean()) / df_encoded[outlier_column].std())\n",
    "    outliers = outliers[z_scores <= threshold]  # 임계값을 초과하지 않는 데이터만 남깁니다.\n",
    "\n",
    "non_outliers = df_encoded[~df_encoded.index.isin(outliers.index)]  # 극단치가 아닌 데이터를 추출합니다."
   ]
  },
  {
   "cell_type": "code",
   "execution_count": 14,
   "metadata": {
    "scrolled": true
   },
   "outputs": [
    {
     "name": "stdout",
     "output_type": "stream",
     "text": [
      "<class 'pandas.core.frame.DataFrame'>\n",
      "Int64Index: 3944 entries, 0 to 4999\n",
      "Data columns (total 20 columns):\n",
      " #   Column                       Non-Null Count  Dtype  \n",
      "---  ------                       --------------  -----  \n",
      " 0   Building_Age                 3944 non-null   float64\n",
      " 1   JS_Price                     3944 non-null   float64\n",
      " 2   JS_BA                        3944 non-null   float64\n",
      " 3   Population                   3944 non-null   float64\n",
      " 4   UR                           3944 non-null   float64\n",
      " 5   LC_index                     3944 non-null   float64\n",
      " 6   CA_index                     3944 non-null   float64\n",
      " 7   TC_index                     3944 non-null   float64\n",
      " 8   SDT_index                    3944 non-null   float64\n",
      " 9   HSP_index                    3944 non-null   float64\n",
      " 10  Sell_Price                   3944 non-null   float64\n",
      " 11  Crime_Rates                  3944 non-null   float64\n",
      " 12  IR                           3944 non-null   float64\n",
      " 13  Shortest_Distance_to_Subway  3944 non-null   float64\n",
      " 14  Shortest_Distance_to_School  3944 non-null   float64\n",
      " 15  Shortest_Distance_to_Univ    3944 non-null   float64\n",
      " 16  Shortest_Distance_to_Park    3944 non-null   float64\n",
      " 17  Region_Name_encoded          3944 non-null   float64\n",
      " 18  YearMonth_encoded            3944 non-null   float64\n",
      " 19  Building_Use_encoded         3944 non-null   float64\n",
      "dtypes: float64(20)\n",
      "memory usage: 647.1 KB\n"
     ]
    }
   ],
   "source": [
    "outliers.info()"
   ]
  },
  {
   "cell_type": "code",
   "execution_count": 15,
   "metadata": {},
   "outputs": [
    {
     "name": "stdout",
     "output_type": "stream",
     "text": [
      "<class 'pandas.core.frame.DataFrame'>\n",
      "Int64Index: 1056 entries, 7 to 4998\n",
      "Data columns (total 20 columns):\n",
      " #   Column                       Non-Null Count  Dtype  \n",
      "---  ------                       --------------  -----  \n",
      " 0   Building_Age                 1056 non-null   float64\n",
      " 1   JS_Price                     1056 non-null   float64\n",
      " 2   JS_BA                        1056 non-null   float64\n",
      " 3   Population                   1056 non-null   float64\n",
      " 4   UR                           1056 non-null   float64\n",
      " 5   LC_index                     1056 non-null   float64\n",
      " 6   CA_index                     1056 non-null   float64\n",
      " 7   TC_index                     1056 non-null   float64\n",
      " 8   SDT_index                    1056 non-null   float64\n",
      " 9   HSP_index                    1056 non-null   float64\n",
      " 10  Sell_Price                   1056 non-null   float64\n",
      " 11  Crime_Rates                  1056 non-null   float64\n",
      " 12  IR                           1056 non-null   float64\n",
      " 13  Shortest_Distance_to_Subway  1056 non-null   float64\n",
      " 14  Shortest_Distance_to_School  1056 non-null   float64\n",
      " 15  Shortest_Distance_to_Univ    1056 non-null   float64\n",
      " 16  Shortest_Distance_to_Park    1056 non-null   float64\n",
      " 17  Region_Name_encoded          1056 non-null   float64\n",
      " 18  YearMonth_encoded            1056 non-null   float64\n",
      " 19  Building_Use_encoded         1056 non-null   float64\n",
      "dtypes: float64(20)\n",
      "memory usage: 173.2 KB\n"
     ]
    }
   ],
   "source": [
    "non_outliers.info()"
   ]
  },
  {
   "cell_type": "markdown",
   "metadata": {},
   "source": [
    "## DF 사전진단"
   ]
  },
  {
   "cell_type": "markdown",
   "metadata": {},
   "source": [
    "### 선형패턴 확인"
   ]
  },
  {
   "cell_type": "code",
   "execution_count": null,
   "metadata": {
    "scrolled": false
   },
   "outputs": [],
   "source": [
    "count = len(non_outliers.columns) - 1\n",
    "col = 3\n",
    "\n",
    "fig, ax = plt.subplots(nrows=math.ceil(count / col), ncols=col, figsize=(30,30))\n",
    "ax = ax.ravel()  # 2D 배열을 1D 배열로 평탄화\n",
    "\n",
    "# 독립 변수와 종속 변수 간의 선형 관계 확인\n",
    "for i, independent_column in enumerate(non_outliers.columns):\n",
    "    if independent_column != 'JS_Price':\n",
    "        if i < len(ax):  # 인덱스가 배열 크기를 벗어나지 않도록 확인\n",
    "            sns.regplot(x=independent_column, y='JS_Price', data=non_outliers, ax=ax[i], scatter_kws={'alpha': 0.5})\n",
    "            ax[i].set_xlabel(independent_column)\n",
    "            ax[i].set_ylabel('JS_Price')\n",
    "\n",
    "# 남은 subplot 비우기\n",
    "for i in range(len(non_outliers.columns), len(ax)):\n",
    "    fig.delaxes(ax[i])\n",
    "\n",
    "plt.tight_layout()\n",
    "plt.show()"
   ]
  },
  {
   "cell_type": "markdown",
   "metadata": {},
   "source": [
    "## 이상치 확인"
   ]
  },
  {
   "cell_type": "code",
   "execution_count": null,
   "metadata": {
    "scrolled": false
   },
   "outputs": [],
   "source": [
    "count = len(non_outliers.columns) - 1\n",
    "col = 3\n",
    "\n",
    "fig, ax = plt.subplots(nrows=math.ceil(count / col), ncols=col, figsize=(30, 30))\n",
    "ax = ax.ravel()  # 2D 배열을 1D 배열로 평탄화\n",
    "\n",
    "# 그래프를 그릴 컬럼 목록\n",
    "columns_to_plot = [column for column in non_outliers.columns]\n",
    "\n",
    "for i, column in enumerate(columns_to_plot):\n",
    "    if i < len(ax):  # 인덱스가 배열 크기를 벗어나지 않도록 확인\n",
    "        sns.boxplot(x=column, data=non_outliers, ax=ax[i], orient='v')\n",
    "        ax[i].set_title(column)\n",
    "\n",
    "# 남은 subplot 비우기\n",
    "for i in range(len(columns_to_plot), len(ax)):\n",
    "    fig.delaxes(ax[i])\n",
    "\n",
    "plt.tight_layout()\n",
    "plt.show()"
   ]
  },
  {
   "cell_type": "markdown",
   "metadata": {},
   "source": [
    "### 정규성 확인"
   ]
  },
  {
   "cell_type": "code",
   "execution_count": null,
   "metadata": {
    "scrolled": true
   },
   "outputs": [],
   "source": [
    "count = len(non_outliers.columns) - 1\n",
    "col = 3\n",
    "\n",
    "fig, ax = plt.subplots(nrows=math.ceil(count / col), ncols=col, figsize=(30, 30))\n",
    "ax = ax.ravel()  # 2D 배열을 1D 배열로 평탄화\n",
    "\n",
    "# 그래프를 그릴 컬럼 목록\n",
    "columns_to_plot = [column for column in non_outliers.columns]\n",
    "\n",
    "for i, column in enumerate(columns_to_plot):\n",
    "    if i < len(ax):  # 인덱스가 배열 크기를 벗어나지 않도록 확인\n",
    "        sns.kdeplot(data=non_outliers[column], ax=ax[i], shade=True)\n",
    "        ax[i].set_title(column)\n",
    "\n",
    "# 남은 subplot 비우기\n",
    "for i in range(len(columns_to_plot), len(ax)):\n",
    "    fig.delaxes(ax[i])\n",
    "\n",
    "plt.tight_layout()\n",
    "plt.show()"
   ]
  },
  {
   "cell_type": "code",
   "execution_count": null,
   "metadata": {
    "scrolled": false
   },
   "outputs": [],
   "source": [
    "for column in non_outliers.columns:\n",
    "    print(f\"{column}의 왜도는\", scipy.stats.skew(non_outliers[column]))"
   ]
  },
  {
   "cell_type": "markdown",
   "metadata": {},
   "source": [
    "## Regression Analysis"
   ]
  },
  {
   "cell_type": "code",
   "execution_count": null,
   "metadata": {
    "scrolled": true
   },
   "outputs": [],
   "source": [
    "non_outliers.columns"
   ]
  },
  {
   "cell_type": "code",
   "execution_count": null,
   "metadata": {
    "scrolled": true
   },
   "outputs": [],
   "source": [
    "# 특성 선택\n",
    "selected_features = ['Sell_Price',\n",
    " 'Building_Age',\n",
    " 'LC_index',\n",
    " 'TC_index',\n",
    " 'Region_Name_encoded',\n",
    " 'HSP_index',\n",
    " 'Building_Use_encoded',\n",
    " 'Shortest_Distance_to_Subway',\n",
    " 'CA_index',\n",
    " 'JS_BA',\n",
    " 'IR',\n",
    " 'YearMonth_encoded']\n",
    "\n",
    "# X 데이터 선택\n",
    "X = non_outliers[selected_features]\n",
    "\n",
    "# 상수항 추가\n",
    "X = sm.add_constant(X)\n",
    "\n",
    "# 종속 변수 선택\n",
    "Y = non_outliers['JS_Price']\n",
    "\n",
    "# 회귀 모델 생성\n",
    "model = sm.OLS(Y, X).fit()\n",
    "\n",
    "# 결과 요약 출력\n",
    "print(model.summary())"
   ]
  },
  {
   "cell_type": "markdown",
   "metadata": {},
   "source": [
    "## 다중공선성"
   ]
  },
  {
   "cell_type": "code",
   "execution_count": null,
   "metadata": {
    "scrolled": true
   },
   "outputs": [],
   "source": [
    "# X 데이터에서 상수항 제거 (VIF 계산에서 상수항은 제외해야 함)\n",
    "X_without_constant = X.drop('const', axis=1)\n",
    "\n",
    "# VIF 계산\n",
    "vif = pd.DataFrame()\n",
    "vif[\"Features\"] = X_without_constant.columns\n",
    "vif[\"VIF\"] = [variance_inflation_factor(X_without_constant.values, i) for i in range(X_without_constant.shape[1])]"
   ]
  },
  {
   "cell_type": "code",
   "execution_count": null,
   "metadata": {
    "scrolled": true
   },
   "outputs": [],
   "source": [
    "vif.sort_values(by='VIF', ascending=False)"
   ]
  },
  {
   "cell_type": "markdown",
   "metadata": {},
   "source": [
    "- 다중공선성, 회귀분석 모델의 각 독립변수의 통계적 유의성(P>|t|값으로판단)을 고려하여 독립변수 제거하고 다시 모델 생성"
   ]
  },
  {
   "cell_type": "code",
   "execution_count": null,
   "metadata": {},
   "outputs": [],
   "source": [
    "delete_columns = ['LC_index', 'TC_index', 'CA_index', 'HSP_index', 'Building_Use_encoded']\n",
    "selected_features = list(set(selected_features) - set(delete_columns))\n",
    "selected_features"
   ]
  },
  {
   "cell_type": "code",
   "execution_count": null,
   "metadata": {
    "scrolled": true
   },
   "outputs": [],
   "source": [
    "# X 데이터 선택\n",
    "X = non_outliers[selected_features]\n",
    "\n",
    "# 상수항 추가\n",
    "X = sm.add_constant(X)\n",
    "\n",
    "# 종속 변수 선택\n",
    "Y = non_outliers['JS_Price']\n",
    "\n",
    "# 회귀 모델 생성\n",
    "model = sm.OLS(Y, X).fit()\n",
    "\n",
    "# 결과 요약 출력\n",
    "print(model.summary())"
   ]
  },
  {
   "cell_type": "markdown",
   "metadata": {},
   "source": [
    "- 모든 변수가 통계적으로 유의한 것을 확인할 수 있다."
   ]
  },
  {
   "cell_type": "markdown",
   "metadata": {},
   "source": [
    "## 모델가정 확인"
   ]
  },
  {
   "cell_type": "markdown",
   "metadata": {},
   "source": [
    "### 선형성"
   ]
  },
  {
   "cell_type": "code",
   "execution_count": null,
   "metadata": {
    "scrolled": false
   },
   "outputs": [],
   "source": [
    "fitted = model.predict(X)\n",
    "residual = non_outliers['JS_Price'] - fitted\n",
    "\n",
    "sns.regplot(x=fitted, y=residual, lowess=True, line_kws={'color':'red'})\n",
    "\n",
    "plt.plot([fitted.min(), fitted.max()], [0, 0], '--', color='grey')"
   ]
  },
  {
   "cell_type": "markdown",
   "metadata": {},
   "source": [
    "### 정규성"
   ]
  },
  {
   "cell_type": "code",
   "execution_count": null,
   "metadata": {
    "scrolled": true
   },
   "outputs": [],
   "source": [
    "fitted = model.predict(X)\n",
    "\n",
    "# 회귀분석 모델을 통해 얻은 잔차 계산\n",
    "residual = non_outliers['JS_Price'] - fitted\n",
    "\n",
    "# 잔차의 Z-score 계산\n",
    "sr = stats.zscore(residual)\n",
    "\n",
    "# Z-score를 이용한 히스토그램\n",
    "plt.figure(figsize=(8, 6))\n",
    "sns.histplot(sr, kde=True, bins=30, color='blue')\n",
    "plt.title('Residuals Histogram with Z-Scores')\n",
    "plt.xlabel('Z-Scores')\n",
    "plt.ylabel('Frequency')\n",
    "plt.show()\n",
    "\n",
    "# Shapiro-Wilk 정규성 검정\n",
    "shapiro_test = stats.shapiro(residual)\n",
    "p_value = shapiro_test.pvalue\n",
    "print('Shapiro-Wilk Test p-value:', p_value)"
   ]
  },
  {
   "cell_type": "markdown",
   "metadata": {},
   "source": [
    "- 정규성 만족을 위해 이상치 제거한 뒤 다시 정규성 확인"
   ]
  },
  {
   "cell_type": "code",
   "execution_count": null,
   "metadata": {},
   "outputs": [],
   "source": [
    "from statsmodels.stats.outliers_influence import OLSInfluence\n",
    "\n",
    "# 이상치 확인\n",
    "cd, _ = OLSInfluence(model).cooks_distance\n",
    "cd.sort_values(ascending=False).head()"
   ]
  },
  {
   "cell_type": "code",
   "execution_count": null,
   "metadata": {},
   "outputs": [],
   "source": [
    "# Cook's 거리를 Series로 변환하고 내림차순으로 정렬\n",
    "cd_series = pd.Series(cd, name=\"Cook's Distance\")\n",
    "cd_sorted = cd_series.sort_values(ascending=False)\n",
    "\n",
    "# Cook's 거리가 가장 큰 관측치 50개의 인덱스 확인\n",
    "outlier_indices = cd_sorted.head(1).index\n",
    "\n",
    "# Cook's 거리가 큰 관측치를 데이터프레임에서 제거\n",
    "df = df.drop(index=outlier_indices)"
   ]
  },
  {
   "cell_type": "code",
   "execution_count": null,
   "metadata": {},
   "outputs": [],
   "source": [
    "# X 데이터 선택\n",
    "X = non_outliers[selected_features]\n",
    "\n",
    "# 상수항 추가\n",
    "X = sm.add_constant(X)\n",
    "\n",
    "# 종속 변수 선택\n",
    "Y = non_outliers['JS_Price']\n",
    "\n",
    "# 회귀 모델 생성\n",
    "model = sm.OLS(Y, X).fit()"
   ]
  },
  {
   "cell_type": "code",
   "execution_count": null,
   "metadata": {},
   "outputs": [],
   "source": [
    "fitted = model.predict(X)\n",
    "\n",
    "# 회귀분석 모델을 통해 얻은 잔차 계산\n",
    "residual = non_outliers['JS_Price'] - fitted\n",
    "\n",
    "# 잔차의 Z-score 계산\n",
    "sr = stats.zscore(residual)\n",
    "\n",
    "# Z-score를 이용한 히스토그램\n",
    "plt.figure(figsize=(8, 6))\n",
    "sns.histplot(sr, kde=True, bins=30, color='blue')\n",
    "plt.title('Residuals Histogram with Z-Scores')\n",
    "plt.xlabel('Z-Scores')\n",
    "plt.ylabel('Frequency')\n",
    "plt.show()\n",
    "\n",
    "# Shapiro-Wilk 정규성 검정\n",
    "shapiro_test = stats.shapiro(residual)\n",
    "p_value = shapiro_test.pvalue\n",
    "print('Shapiro-Wilk Test p-value:', p_value)"
   ]
  },
  {
   "cell_type": "markdown",
   "metadata": {},
   "source": [
    "- 정규성 만족을 위해 종속변수 로그변환한 뒤 다시 정규성 확인"
   ]
  },
  {
   "cell_type": "code",
   "execution_count": null,
   "metadata": {},
   "outputs": [],
   "source": [
    "non_outliers['JS_Price'] = np.log(non_outliers['JS_Price']+1)"
   ]
  },
  {
   "cell_type": "code",
   "execution_count": null,
   "metadata": {},
   "outputs": [],
   "source": [
    "# X 데이터 선택\n",
    "X = non_outliers[selected_features]\n",
    "\n",
    "# 상수항 추가\n",
    "X = sm.add_constant(X)\n",
    "\n",
    "# 종속 변수 선택\n",
    "Y = non_outliers['JS_Price']\n",
    "\n",
    "# 회귀 모델 생성\n",
    "model = sm.OLS(Y, X).fit()"
   ]
  },
  {
   "cell_type": "code",
   "execution_count": null,
   "metadata": {},
   "outputs": [],
   "source": [
    "fitted = model.predict(X)\n",
    "\n",
    "# 회귀분석 모델을 통해 얻은 잔차 계산\n",
    "residual = non_outliers['JS_Price'] - fitted\n",
    "\n",
    "# 잔차의 Z-score 계산\n",
    "sr = stats.zscore(residual)\n",
    "\n",
    "# Z-score를 이용한 히스토그램\n",
    "plt.figure(figsize=(8, 6))\n",
    "sns.histplot(sr, kde=True, bins=30, color='blue')\n",
    "plt.title('Residuals Histogram with Z-Scores')\n",
    "plt.xlabel('Z-Scores')\n",
    "plt.ylabel('Frequency')\n",
    "plt.show()\n",
    "\n",
    "# Shapiro-Wilk 정규성 검정\n",
    "shapiro_test = stats.shapiro(residual)\n",
    "p_value = shapiro_test.pvalue\n",
    "print('Shapiro-Wilk Test p-value:', p_value)"
   ]
  },
  {
   "cell_type": "markdown",
   "metadata": {},
   "source": [
    "### 등분산성"
   ]
  },
  {
   "cell_type": "code",
   "execution_count": null,
   "metadata": {
    "scrolled": false
   },
   "outputs": [],
   "source": [
    "sns.regplot(x=fitted, y=np.sqrt(np.abs(sr)), lowess=True, line_kws={'color': 'red'})"
   ]
  },
  {
   "cell_type": "markdown",
   "metadata": {},
   "source": [
    "### 독립성"
   ]
  },
  {
   "cell_type": "code",
   "execution_count": null,
   "metadata": {
    "scrolled": false
   },
   "outputs": [],
   "source": [
    "print(model.summary().tables[2])"
   ]
  },
  {
   "cell_type": "markdown",
   "metadata": {},
   "source": [
    "- Durbin-Watson:2.016로 1.5~2.5사이이므로 잔차 간의 자기상관이 없다고 할 수 있으며, 회귀 모델은 독립성 가정을 만족"
   ]
  },
  {
   "cell_type": "markdown",
   "metadata": {},
   "source": [
    "## 최종 모델 점검"
   ]
  },
  {
   "cell_type": "code",
   "execution_count": null,
   "metadata": {
    "scrolled": true
   },
   "outputs": [],
   "source": [
    "print(model.summary())"
   ]
  },
  {
   "cell_type": "code",
   "execution_count": null,
   "metadata": {
    "scrolled": true
   },
   "outputs": [],
   "source": [
    "model.params.sort_values(ascending=False)"
   ]
  }
 ],
 "metadata": {
  "colab": {
   "provenance": []
  },
  "kernelspec": {
   "display_name": "Python 3",
   "language": "python",
   "name": "python3"
  },
  "language_info": {
   "codemirror_mode": {
    "name": "ipython",
    "version": 3
   },
   "file_extension": ".py",
   "mimetype": "text/x-python",
   "name": "python",
   "nbconvert_exporter": "python",
   "pygments_lexer": "ipython3",
   "version": "3.7.6"
  }
 },
 "nbformat": 4,
 "nbformat_minor": 1
}
