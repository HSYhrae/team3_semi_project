{
 "cells": [
  {
   "cell_type": "code",
   "execution_count": 7,
   "metadata": {
    "colab": {
     "base_uri": "https://localhost:8080/"
    },
    "id": "9xvhlwehMhex",
    "outputId": "52b762e9-eb55-49f7-f173-70096f53b00a",
    "scrolled": false
   },
   "outputs": [
    {
     "name": "stderr",
     "output_type": "stream",
     "text": [
      "'sudo'은(는) 내부 또는 외부 명령, 실행할 수 있는 프로그램, 또는\n",
      "배치 파일이 아닙니다.\n",
      "'sudo'은(는) 내부 또는 외부 명령, 실행할 수 있는 프로그램, 또는\n",
      "배치 파일이 아닙니다.\n",
      "'rm'은(는) 내부 또는 외부 명령, 실행할 수 있는 프로그램, 또는\n",
      "배치 파일이 아닙니다.\n"
     ]
    }
   ],
   "source": [
    "!sudo apt-get install -y fonts-nanum\n",
    "!sudo fc-cache -fv\n",
    "!rm ~/.cache/matplotlib -rf\n"
   ]
  },
  {
   "cell_type": "code",
   "execution_count": 33,
   "metadata": {},
   "outputs": [
    {
     "name": "stdout",
     "output_type": "stream",
     "text": [
      "Requirement already satisfied: statsmodels in c:\\users\\spa84\\anaconda3\\lib\\site-packages (0.13.5)\n",
      "Requirement already satisfied: pandas>=0.25 in c:\\users\\spa84\\anaconda3\\lib\\site-packages (from statsmodels) (1.3.2)\n",
      "Requirement already satisfied: patsy>=0.5.2 in c:\\users\\spa84\\anaconda3\\lib\\site-packages (from statsmodels) (0.5.3)\n",
      "Requirement already satisfied: packaging>=21.3 in c:\\users\\spa84\\anaconda3\\lib\\site-packages (from statsmodels) (23.1)\n",
      "Requirement already satisfied: scipy>=1.3 in c:\\users\\spa84\\anaconda3\\lib\\site-packages (from statsmodels) (1.7.3)\n",
      "Requirement already satisfied: numpy>=1.17 in c:\\users\\spa84\\anaconda3\\lib\\site-packages (from statsmodels) (1.19.5)\n",
      "Requirement already satisfied: python-dateutil>=2.7.3 in c:\\users\\spa84\\anaconda3\\lib\\site-packages (from pandas>=0.25->statsmodels) (2.8.1)\n",
      "Requirement already satisfied: pytz>=2017.3 in c:\\users\\spa84\\anaconda3\\lib\\site-packages (from pandas>=0.25->statsmodels) (2019.3)\n",
      "Requirement already satisfied: six in c:\\users\\spa84\\anaconda3\\lib\\site-packages (from patsy>=0.5.2->statsmodels) (1.15.0)\n",
      "Note: you may need to restart the kernel to use updated packages.\n"
     ]
    },
    {
     "name": "stderr",
     "output_type": "stream",
     "text": [
      "DEPRECATION: pyodbc 4.0.0-unsupported has a non-standard version number. pip 23.3 will enforce this behaviour change. A possible replacement is to upgrade to a newer version of pyodbc or contact the author to suggest that they release a version with a conforming version number. Discussion can be found at https://github.com/pypa/pip/issues/12063\n"
     ]
    }
   ],
   "source": [
    "pip install statsmodels"
   ]
  },
  {
   "cell_type": "code",
   "execution_count": 38,
   "metadata": {},
   "outputs": [],
   "source": [
    "import pandas as pd\n",
    "import numpy as np\n",
    "import statsmodels.api as sm\n",
    "from scipy import stats"
   ]
  },
  {
   "cell_type": "code",
   "execution_count": 39,
   "metadata": {
    "scrolled": true
   },
   "outputs": [],
   "source": [
    "path = './data/'\n",
    "\n",
    "df = pd.read_csv(path+'전세가격예측프로젝트_월별데이터_총병합.csv')"
   ]
  },
  {
   "cell_type": "code",
   "execution_count": 44,
   "metadata": {},
   "outputs": [
    {
     "data": {
      "text/plain": [
       "Index(['Year', 'Month', 'Region_Name', 'Region_Code', 'Building_Use',\n",
       "       'Sell_Price', 'Sell_BA', 'Sell_PPA', 'Sell_PPP', 'Sell_Count',\n",
       "       'JS_Price', 'JS_BA', 'JS_PPA', 'JS_PPP', 'JS_Count', 'CR', 'BA_CR',\n",
       "       'PPA_CR', 'IR', 'UR', 'LC_index', 'CA_index', 'TC_index', 'SDT_index'],\n",
       "      dtype='object')"
      ]
     },
     "execution_count": 44,
     "metadata": {},
     "output_type": "execute_result"
    }
   ],
   "source": [
    "df.columns"
   ]
  },
  {
   "cell_type": "code",
   "execution_count": 47,
   "metadata": {},
   "outputs": [
    {
     "name": "stdout",
     "output_type": "stream",
     "text": [
      "                            OLS Regression Results                            \n",
      "==============================================================================\n",
      "Dep. Variable:               JS_Price   R-squared:                       0.954\n",
      "Model:                            OLS   Adj. R-squared:                  0.954\n",
      "Method:                 Least Squares   F-statistic:                 1.259e+04\n",
      "Date:                Fri, 08 Sep 2023   Prob (F-statistic):               0.00\n",
      "Time:                        17:22:07   Log-Likelihood:            -1.1440e+05\n",
      "No. Observations:               12190   AIC:                         2.288e+05\n",
      "Df Residuals:                   12169   BIC:                         2.290e+05\n",
      "Df Model:                          20                                         \n",
      "Covariance Type:            nonrobust                                         \n",
      "==============================================================================\n",
      "                 coef    std err          t      P>|t|      [0.025      0.975]\n",
      "------------------------------------------------------------------------------\n",
      "const       1.575e+06   4.54e+05      3.467      0.001    6.84e+05    2.46e+06\n",
      "Year        -809.9991    228.193     -3.550      0.000   -1257.294    -362.704\n",
      "Month        -57.6683     18.779     -3.071      0.002     -94.478     -20.858\n",
      "Sell_Price    -0.0006      0.001     -0.486      0.627      -0.003       0.002\n",
      "Sell_BA       -2.0822      1.233     -1.689      0.091      -4.499       0.335\n",
      "Sell_PPA   -4197.4977   2580.696     -1.626      0.104   -9256.073     861.077\n",
      "Sell_PPP     1.39e+04   8531.230      1.630      0.103   -2818.265    3.06e+04\n",
      "Sell_Count    -4.4246      0.227    -19.473      0.000      -4.870      -3.979\n",
      "JS_BA        501.9820      2.411    208.206      0.000     497.256     506.708\n",
      "JS_PPA     -2412.7521   2562.042     -0.942      0.346   -7434.763    2609.258\n",
      "JS_PPP      8096.0459   8469.558      0.956      0.339   -8505.634    2.47e+04\n",
      "JS_Count       3.6119      0.207     17.430      0.000       3.206       4.018\n",
      "CR            -5.1939      4.064     -1.278      0.201     -13.159       2.771\n",
      "BA_CR         16.7636      3.239      5.175      0.000      10.414      23.113\n",
      "PPA_CR        25.2362      4.233      5.961      0.000      16.938      33.534\n",
      "IR         -1173.1848    139.394     -8.416      0.000   -1446.420    -899.950\n",
      "UR           215.7039     80.595      2.676      0.007      57.726     373.682\n",
      "LC_index    -311.8495     35.500     -8.784      0.000    -381.435    -242.264\n",
      "CA_index     439.1391     31.189     14.080      0.000     378.003     500.275\n",
      "TC_index     191.3329     80.006      2.391      0.017      34.508     348.158\n",
      "SDT_index     11.1274      3.741      2.974      0.003       3.794      18.461\n",
      "==============================================================================\n",
      "Omnibus:                     1173.799   Durbin-Watson:                   2.255\n",
      "Prob(Omnibus):                  0.000   Jarque-Bera (JB):             8775.369\n",
      "Skew:                           0.095   Prob(JB):                         0.00\n",
      "Kurtosis:                       7.152   Cond. No.                     1.43e+09\n",
      "==============================================================================\n",
      "\n",
      "Notes:\n",
      "[1] Standard Errors assume that the covariance matrix of the errors is correctly specified.\n",
      "[2] The condition number is large, 1.43e+09. This might indicate that there are\n",
      "strong multicollinearity or other numerical problems.\n"
     ]
    }
   ],
   "source": [
    "import pandas as pd\n",
    "import statsmodels.api as sm\n",
    "\n",
    "# 독립 변수와 종속 변수 선택\n",
    "X = df[['Year', 'Month', 'Sell_Price', 'Sell_BA', 'Sell_PPA', 'Sell_PPP', 'Sell_Count',\n",
    "        'JS_BA', 'JS_PPA', 'JS_PPP', 'JS_Count', 'CR', 'BA_CR',\n",
    "       'PPA_CR', 'IR', 'UR', 'LC_index', 'CA_index', 'TC_index', 'SDT_index']]\n",
    "y = df['JS_Price']\n",
    "\n",
    "# 상수 (절편) 추가\n",
    "X = sm.add_constant(X)\n",
    "\n",
    "# 회귀 모델 생성\n",
    "model = sm.OLS(y, X).fit()\n",
    "\n",
    "# 결과 요약\n",
    "print(model.summary())"
   ]
  }
 ],
 "metadata": {
  "colab": {
   "provenance": []
  },
  "kernelspec": {
   "display_name": "Python 3",
   "language": "python",
   "name": "python3"
  },
  "language_info": {
   "codemirror_mode": {
    "name": "ipython",
    "version": 3
   },
   "file_extension": ".py",
   "mimetype": "text/x-python",
   "name": "python",
   "nbconvert_exporter": "python",
   "pygments_lexer": "ipython3",
   "version": "3.7.6"
  }
 },
 "nbformat": 4,
 "nbformat_minor": 1
}
